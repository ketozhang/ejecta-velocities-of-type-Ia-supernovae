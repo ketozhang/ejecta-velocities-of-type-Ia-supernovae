{
 "cells": [
  {
   "cell_type": "code",
   "execution_count": 1,
   "metadata": {
    "execution": {
     "iopub.execute_input": "2020-09-23T07:21:04.305679Z",
     "iopub.status.busy": "2020-09-23T07:21:04.305432Z",
     "iopub.status.idle": "2020-09-23T07:21:05.159507Z",
     "shell.execute_reply": "2020-09-23T07:21:05.158499Z",
     "shell.execute_reply.started": "2020-09-23T07:21:04.305652Z"
    }
   },
   "outputs": [],
   "source": [
    "import pandas as pd\n",
    "import numpy as np\n",
    "from dataloader import import_kaepora"
   ]
  },
  {
   "cell_type": "code",
   "execution_count": 2,
   "metadata": {
    "execution": {
     "iopub.execute_input": "2020-09-23T07:21:05.161137Z",
     "iopub.status.busy": "2020-09-23T07:21:05.160930Z",
     "iopub.status.idle": "2020-09-23T07:21:05.316188Z",
     "shell.execute_reply": "2020-09-23T07:21:05.315089Z",
     "shell.execute_reply.started": "2020-09-23T07:21:05.161111Z"
    }
   },
   "outputs": [
    {
     "name": "stdout",
     "output_type": "stream",
     "text": [
      "<class 'pandas.core.frame.DataFrame'>\n",
      "Index: 311 entries, 2006td to 1992bo\n",
      "Data columns (total 3 columns):\n",
      " #   Column      Non-Null Count  Dtype  \n",
      "---  ------      --------------  -----  \n",
      " 0   v_siII      311 non-null    float64\n",
      " 1   v_siII_err  302 non-null    float64\n",
      " 2   z           291 non-null    float64\n",
      "dtypes: float64(3)\n",
      "memory usage: 9.7+ KB\n"
     ]
    }
   ],
   "source": [
    "# Kaepora subsample for paper\n",
    "kaepora = import_kaepora()\n",
    "kaepora.info()"
   ]
  },
  {
   "cell_type": "code",
   "execution_count": 3,
   "metadata": {
    "execution": {
     "iopub.execute_input": "2020-09-23T07:21:05.318831Z",
     "iopub.status.busy": "2020-09-23T07:21:05.318507Z",
     "iopub.status.idle": "2020-09-23T07:21:05.391651Z",
     "shell.execute_reply": "2020-09-23T07:21:05.390486Z",
     "shell.execute_reply.started": "2020-09-23T07:21:05.318799Z"
    }
   },
   "outputs": [
    {
     "name": "stdout",
     "output_type": "stream",
     "text": [
      "<class 'pandas.core.frame.DataFrame'>\n",
      "RangeIndex: 5256 entries, 0 to 5255\n",
      "Data columns (total 8 columns):\n",
      " #   Column         Non-Null Count  Dtype  \n",
      "---  ------         --------------  -----  \n",
      " 0   ID             5256 non-null   int64  \n",
      " 1   Name           5256 non-null   object \n",
      " 2   RA             5256 non-null   object \n",
      " 3   DEC            5256 non-null   object \n",
      " 4   Obj. Type      5256 non-null   object \n",
      " 5   Redshift       177 non-null    float64\n",
      " 6   Host Name      5194 non-null   object \n",
      " 7   Host Redshift  54 non-null     float64\n",
      "dtypes: float64(2), int64(1), object(5)\n",
      "memory usage: 328.6+ KB\n"
     ]
    }
   ],
   "source": [
    "# TNS\n",
    "tns = pd.read_csv(\"data/tns_sn_before2016aqv.csv\", usecols=range(8))\n",
    "\n",
    "# Clean SN Name\n",
    "tns[\"Name\"] = (tns[\"Name\"]\n",
    " .str.lower() # Use lowercase SN names\n",
    " .str.replace(\"sn\", \"\") # Remove \"sn\" prefix\n",
    " .str.replace(\"\\s\", \"\") # Replace spaces with whitespace\n",
    " .str.strip() # Remove leading and trailing characters.\n",
    ")\n",
    "\n",
    "# Clean host name\n",
    "tns[\"Host Name\"] = (tns[\"Host Name\"]\n",
    "                    .str.upper() # Use uppercase galaxy names\n",
    "                    .str.replace(\"\\s\",  \"\")\n",
    "                    .str.strip()\n",
    "                   )\n",
    "tns.info()"
   ]
  },
  {
   "cell_type": "code",
   "execution_count": 4,
   "metadata": {
    "execution": {
     "iopub.execute_input": "2020-09-23T07:21:05.393682Z",
     "iopub.status.busy": "2020-09-23T07:21:05.393375Z",
     "iopub.status.idle": "2020-09-23T07:21:29.907217Z",
     "shell.execute_reply": "2020-09-23T07:21:29.906207Z",
     "shell.execute_reply.started": "2020-09-23T07:21:05.393640Z"
    }
   },
   "outputs": [
    {
     "name": "stderr",
     "output_type": "stream",
     "text": [
      "/home/keto/.pyenv/versions/3.8.2/lib/python3.8/site-packages/IPython/core/interactiveshell.py:3062: DtypeWarning: Columns (1,2,3,4) have mixed types.Specify dtype option on import or set low_memory=False.\n",
      "  has_raised = await self.run_ast_nodes(code_ast.body, cell_name,\n"
     ]
    },
    {
     "name": "stdout",
     "output_type": "stream",
     "text": [
      "<class 'pandas.core.frame.DataFrame'>\n",
      "Int64Index: 2966597 entries, 0 to 3263610\n",
      "Data columns (total 10 columns):\n",
      " #   Column          Dtype  \n",
      "---  ------          -----  \n",
      " 0   GWGC name       object \n",
      " 1   HyperLEDA name  object \n",
      " 2   2MASS name      object \n",
      " 3   SDSS-DR12 name  object \n",
      " 4   dist            float64\n",
      " 5   dist_err        float64\n",
      " 6   z               float64\n",
      " 7   B               float64\n",
      " 8   B_err           float64\n",
      " 9   B_Abs           float64\n",
      "dtypes: float64(6), object(4)\n",
      "memory usage: 249.0+ MB\n"
     ]
    }
   ],
   "source": [
    "# GLADE\n",
    "# File is very large, keep only what's necessary\n",
    "glade_cols = [\"PGC\", \"GWGC name\", \"HyperLEDA name\", \"2MASS name\", \"SDSS-DR12 name\", \"flag1\", \"RA\", \"dec\", \"dist\", \"dist_err\", \"z\", \"B\", \"B_err\", \"B_Abs\", \"J\", \"J_err\", \"H\", \"H_err\", \"K\", \"K_err\", \"flag2\", \"flag3\"]\n",
    "glade = pd.read_csv(\"data/GLADE_2.4.txt\", sep=\"\\s+\", \n",
    "                    names=glade_cols,\n",
    "                    usecols=[\"GWGC name\", \"HyperLEDA name\", \"2MASS name\", \"SDSS-DR12 name\", \"z\", \"B\", \"B_err\", \"B_Abs\", \"dist\", \"dist_err\"]\n",
    "                   )\n",
    "\n",
    "# Removing rows where galaxy name aren't recorded\n",
    "# Cast galaxy name columns as string because some of them are read as numerics\n",
    "glade = (glade\n",
    "         .dropna(subset=[\"GWGC name\", \"HyperLEDA name\", \"2MASS name\"], how=\"all\")\n",
    "         .astype({\"GWGC name\": str, \"HyperLEDA name\": str, \"2MASS name\": str, \"SDSS-DR12 name\": str})\n",
    "        )\n",
    "\n",
    "glade[[\"GWGC name\", \"HyperLEDA name\", \"2MASS name\"]] = glade[[\"GWGC name\", \"HyperLEDA name\", \"2MASS name\"]].apply(\n",
    "    lambda s: ((s\n",
    "                .str.upper()  # Use uppercase galaxy names\n",
    "                .str.replace(\"\\s\", \"\")\n",
    "                .str.strip())\n",
    "               ))\n",
    "\n",
    "# glade = glade[\n",
    "# #     (glade[\"GWGC name\"].isin(tns[\"Host Name\"].unique())) & \n",
    "#     (~glade[\"GWGC name\"].isnull())\n",
    "# ]\n",
    "\n",
    "glade.info()"
   ]
  },
  {
   "cell_type": "code",
   "execution_count": 5,
   "metadata": {
    "execution": {
     "iopub.execute_input": "2020-09-23T07:21:29.908491Z",
     "iopub.status.busy": "2020-09-23T07:21:29.908288Z",
     "iopub.status.idle": "2020-09-23T07:21:29.925393Z",
     "shell.execute_reply": "2020-09-23T07:21:29.924340Z",
     "shell.execute_reply.started": "2020-09-23T07:21:29.908465Z"
    }
   },
   "outputs": [
    {
     "name": "stdout",
     "output_type": "stream",
     "text": [
      "<class 'pandas.core.frame.DataFrame'>\n",
      "Int64Index: 304 entries, 1544 to 4493\n",
      "Data columns (total 11 columns):\n",
      " #   Column         Non-Null Count  Dtype  \n",
      "---  ------         --------------  -----  \n",
      " 0   v_siII         304 non-null    float64\n",
      " 1   v_siII_err     296 non-null    float64\n",
      " 2   z              284 non-null    float64\n",
      " 3   ID             304 non-null    int64  \n",
      " 4   Name           304 non-null    object \n",
      " 5   RA             304 non-null    object \n",
      " 6   DEC            304 non-null    object \n",
      " 7   Obj. Type      304 non-null    object \n",
      " 8   Redshift       1 non-null      float64\n",
      " 9   Host Name      304 non-null    object \n",
      " 10  Host Redshift  0 non-null      float64\n",
      "dtypes: float64(5), int64(1), object(5)\n",
      "memory usage: 28.5+ KB\n"
     ]
    }
   ],
   "source": [
    "# Merge kaepora and TNS on SN name\n",
    "kaepora_tns = kaepora.merge(tns, how=\"inner\", left_index=True, right_index=False, right_on=\"Name\", suffixes=(\"_kaepora\", \"_tns\"))\n",
    "kaepora_tns.info()"
   ]
  },
  {
   "cell_type": "code",
   "execution_count": 6,
   "metadata": {
    "execution": {
     "iopub.execute_input": "2020-09-23T07:21:29.926978Z",
     "iopub.status.busy": "2020-09-23T07:21:29.926744Z",
     "iopub.status.idle": "2020-09-23T07:21:31.891953Z",
     "shell.execute_reply": "2020-09-23T07:21:31.890275Z",
     "shell.execute_reply.started": "2020-09-23T07:21:29.926951Z"
    }
   },
   "outputs": [
    {
     "name": "stdout",
     "output_type": "stream",
     "text": [
      "<class 'pandas.core.frame.DataFrame'>\n",
      "Int64Index: 304 entries, 0 to 303\n",
      "Data columns (total 21 columns):\n",
      " #   Column          Non-Null Count  Dtype  \n",
      "---  ------          --------------  -----  \n",
      " 0   v_siII          304 non-null    float64\n",
      " 1   v_siII_err      296 non-null    float64\n",
      " 2   z_kaepora       284 non-null    float64\n",
      " 3   ID              304 non-null    int64  \n",
      " 4   Name            304 non-null    object \n",
      " 5   RA              304 non-null    object \n",
      " 6   DEC             304 non-null    object \n",
      " 7   Obj. Type       304 non-null    object \n",
      " 8   Redshift        1 non-null      float64\n",
      " 9   Host Name       304 non-null    object \n",
      " 10  Host Redshift   0 non-null      float64\n",
      " 11  GWGC name       128 non-null    object \n",
      " 12  HyperLEDA name  128 non-null    object \n",
      " 13  2MASS name      128 non-null    object \n",
      " 14  SDSS-DR12 name  128 non-null    object \n",
      " 15  dist            128 non-null    float64\n",
      " 16  dist_err        0 non-null      float64\n",
      " 17  z_glade         128 non-null    float64\n",
      " 18  B               128 non-null    float64\n",
      " 19  B_err           66 non-null     float64\n",
      " 20  B_Abs           126 non-null    float64\n",
      "dtypes: float64(11), int64(1), object(9)\n",
      "memory usage: 52.2+ KB\n"
     ]
    }
   ],
   "source": [
    "# Merge kaepora+TNS with GLADE on galaxy name\n",
    "kaepora_tns_glade = kaepora_tns.merge(glade, how=\"left\", left_on=\"Host Name\", right_on=\"HyperLEDA name\", suffixes=(\"_kaepora\", \"_glade\"))\n",
    "kaepora_tns_glade.info()"
   ]
  },
  {
   "cell_type": "code",
   "execution_count": 7,
   "metadata": {
    "execution": {
     "iopub.execute_input": "2020-09-23T07:21:31.893573Z",
     "iopub.status.busy": "2020-09-23T07:21:31.893321Z",
     "iopub.status.idle": "2020-09-23T07:21:31.913377Z",
     "shell.execute_reply": "2020-09-23T07:21:31.911749Z",
     "shell.execute_reply.started": "2020-09-23T07:21:31.893546Z"
    }
   },
   "outputs": [],
   "source": [
    "# Save to file\n",
    "(kaepora_tns_glade\n",
    "    .rename(columns={\"Host Redshift\": \"z_tns\", \"Name\": \"sn\"})\n",
    "    .sort_values([\"HyperLEDA name\", \"sn\"])\n",
    "    [[\"sn\", \"Host Name\", \"HyperLEDA name\", \"v_siII\", \"v_siII_err\",\n",
    "        \"z_kaepora\", \"z_glade\", \"z_tns\", \"B\", \"B_err\", \"dist\", \"dist_err\", \"RA\", \"DEC\"]]\n",
    " ).to_csv(\"kaepora_tns_glade.csv\", index=False)"
   ]
  },
  {
   "cell_type": "code",
   "execution_count": 12,
   "metadata": {
    "execution": {
     "iopub.execute_input": "2020-09-23T07:22:42.701380Z",
     "iopub.status.busy": "2020-09-23T07:22:42.701132Z",
     "iopub.status.idle": "2020-09-23T07:22:42.713232Z",
     "shell.execute_reply": "2020-09-23T07:22:42.712181Z",
     "shell.execute_reply.started": "2020-09-23T07:22:42.701354Z"
    }
   },
   "outputs": [
    {
     "data": {
      "text/plain": [
       "32      NGC175\n",
       "48      NGC134\n",
       "63      NGC846\n",
       "91      NGC157\n",
       "248     NGC910\n",
       "         ...  \n",
       "4991    NGC337\n",
       "5000    NGC418\n",
       "5020    NGC694\n",
       "5187    NGC628\n",
       "5229    NGC428\n",
       "Name: Host Name, Length: 116, dtype: object"
      ]
     },
     "execution_count": 12,
     "metadata": {},
     "output_type": "execute_result"
    }
   ],
   "source": [
    "# Finding NGC<1-3 numbers>\n",
    "matches = tns[\"Host Name\"].str.match(\"NGC\\d{1,3}$\", na=False)\n",
    "tns[\"Host Name\"][matches]"
   ]
  },
  {
   "cell_type": "code",
   "execution_count": 32,
   "metadata": {
    "execution": {
     "iopub.execute_input": "2020-09-23T07:28:41.254451Z",
     "iopub.status.busy": "2020-09-23T07:28:41.254144Z",
     "iopub.status.idle": "2020-09-23T07:28:41.263725Z",
     "shell.execute_reply": "2020-09-23T07:28:41.262707Z",
     "shell.execute_reply.started": "2020-09-23T07:28:41.254423Z"
    }
   },
   "outputs": [
    {
     "data": {
      "text/plain": [
       "32      NGC0175\n",
       "48      NGC0134\n",
       "63      NGC0846\n",
       "91      NGC0157\n",
       "248     NGC0910\n",
       "         ...   \n",
       "4991    NGC0337\n",
       "5000    NGC0418\n",
       "5020    NGC0694\n",
       "5187    NGC0628\n",
       "5229    NGC0428\n",
       "Name: Host Name, Length: 116, dtype: object"
      ]
     },
     "execution_count": 32,
     "metadata": {},
     "output_type": "execute_result"
    }
   ],
   "source": [
    "# Padding zeroes to NGC<1-3numbers> to NGC<4 numbers>\n",
    "\n",
    "(tns[\"Host Name\"][matches]\n",
    " .str.extract(\"(\\d+)\", expand=False) # Extract the digits\n",
    " .apply(lambda ngc_number: f\"NGC{int(ngc_number):04d}\") # Pad until 4 digits\n",
    ")"
   ]
  }
 ],
 "metadata": {
  "kernelspec": {
   "display_name": "Python 3",
   "language": "python",
   "name": "python3"
  },
  "language_info": {
   "codemirror_mode": {
    "name": "ipython",
    "version": 3
   },
   "file_extension": ".py",
   "mimetype": "text/x-python",
   "name": "python",
   "nbconvert_exporter": "python",
   "pygments_lexer": "ipython3",
   "version": "3.8.2"
  }
 },
 "nbformat": 4,
 "nbformat_minor": 4
}
